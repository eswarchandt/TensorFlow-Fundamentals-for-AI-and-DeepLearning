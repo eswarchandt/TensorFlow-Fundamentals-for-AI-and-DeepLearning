{
 "cells": [
  {
   "cell_type": "code",
   "execution_count": 0,
   "metadata": {
    "colab": {
     "base_uri": "https://localhost:8080/",
     "height": 1000
    },
    "colab_type": "code",
    "executionInfo": {
     "elapsed": 4217,
     "status": "ok",
     "timestamp": 1578641876419,
     "user": {
      "displayName": "Mukesh Rao",
      "photoUrl": "",
      "userId": "17153267786626763657"
     },
     "user_tz": -330
    },
    "id": "EnR-o35AXgeQ",
    "outputId": "b3b7cba6-f101-4ce7-b668-d5e09fcca6fe"
   },
   "outputs": [
    {
     "name": "stdout",
     "output_type": "stream",
     "text": [
      "Package                  Version    \n",
      "------------------------ -----------\n",
      "absl-py                  0.9.0      \n",
      "alabaster                0.7.12     \n",
      "albumentations           0.1.12     \n",
      "altair                   4.0.0      \n",
      "asgiref                  3.2.3      \n",
      "astor                    0.8.1      \n",
      "astropy                  4.0        \n",
      "atari-py                 0.2.6      \n",
      "atomicwrites             1.3.0      \n",
      "attrs                    19.3.0     \n",
      "audioread                2.1.8      \n",
      "autograd                 1.3        \n",
      "Babel                    2.8.0      \n",
      "backcall                 0.1.0      \n",
      "backports.tempfile       1.0        \n",
      "backports.weakref        1.0.post1  \n",
      "beautifulsoup4           4.6.3      \n",
      "bleach                   3.1.0      \n",
      "blis                     0.2.4      \n",
      "bokeh                    1.4.0      \n",
      "boto                     2.49.0     \n",
      "boto3                    1.10.47    \n",
      "botocore                 1.13.47    \n",
      "Bottleneck               1.3.1      \n",
      "branca                   0.3.1      \n",
      "bs4                      0.0.1      \n",
      "bz2file                  0.98       \n",
      "cachetools               4.0.0      \n",
      "certifi                  2019.11.28 \n",
      "cffi                     1.13.2     \n",
      "chainer                  6.5.0      \n",
      "chardet                  3.0.4      \n",
      "chart-studio             1.0.0      \n",
      "Click                    7.0        \n",
      "cloudpickle              1.2.2      \n",
      "cmake                    3.12.0     \n",
      "colorlover               0.3.0      \n",
      "community                1.0.0b1    \n",
      "contextlib2              0.5.5      \n",
      "convertdate              2.2.0      \n",
      "coverage                 3.7.1      \n",
      "coveralls                0.5        \n",
      "crcmod                   1.7        \n",
      "cufflinks                0.17.0     \n",
      "cvxopt                   1.2.3      \n",
      "cvxpy                    1.0.25     \n",
      "cycler                   0.10.0     \n",
      "cymem                    2.0.3      \n",
      "Cython                   0.29.14    \n",
      "daft                     0.0.4      \n",
      "dask                     2.9.1      \n",
      "dataclasses              0.7        \n",
      "datascience              0.10.6     \n",
      "decorator                4.4.1      \n",
      "defusedxml               0.6.0      \n",
      "descartes                1.1.0      \n",
      "dill                     0.3.1.1    \n",
      "distributed              1.25.3     \n",
      "Django                   3.0.2      \n",
      "dlib                     19.18.0    \n",
      "dm-sonnet                1.35       \n",
      "docopt                   0.6.2      \n",
      "docutils                 0.15.2     \n",
      "dopamine-rl              1.0.5      \n",
      "earthengine-api          0.1.209    \n",
      "easydict                 1.9        \n",
      "ecos                     2.0.7.post1\n",
      "editdistance             0.5.3      \n",
      "en-core-web-sm           2.1.0      \n",
      "entrypoints              0.3        \n",
      "et-xmlfile               1.0.1      \n",
      "fa2                      0.3.5      \n",
      "fancyimpute              0.4.3      \n",
      "fastai                   1.0.60     \n",
      "fastcache                1.1.0      \n",
      "fastdtw                  0.3.4      \n",
      "fastprogress             0.2.2      \n",
      "fastrlock                0.4        \n",
      "fbprophet                0.5        \n",
      "feather-format           0.4.0      \n",
      "featuretools             0.4.1      \n",
      "filelock                 3.0.12     \n",
      "fix-yahoo-finance        0.0.22     \n",
      "Flask                    1.1.1      \n",
      "folium                   0.8.3      \n",
      "fsspec                   0.6.2      \n",
      "future                   0.16.0     \n",
      "gast                     0.2.2      \n",
      "GDAL                     2.2.2      \n",
      "gdown                    3.6.4      \n",
      "gensim                   3.6.0      \n",
      "geographiclib            1.50       \n",
      "geopy                    1.17.0     \n",
      "gevent                   1.4.0      \n",
      "gin-config               0.3.0      \n",
      "glob2                    0.7        \n",
      "google                   2.0.3      \n",
      "google-api-core          1.15.0     \n",
      "google-api-python-client 1.7.11     \n",
      "google-auth              1.10.0     \n",
      "google-auth-httplib2     0.0.3      \n",
      "google-auth-oauthlib     0.4.1      \n",
      "google-cloud-bigquery    1.21.0     \n",
      "google-cloud-core        1.0.3      \n",
      "google-cloud-datastore   1.8.0      \n",
      "google-cloud-language    1.2.0      \n",
      "google-cloud-storage     1.16.2     \n",
      "google-cloud-translate   1.5.0      \n",
      "google-colab             1.0.0      \n",
      "google-pasta             0.1.8      \n",
      "google-resumable-media   0.4.1      \n",
      "googleapis-common-protos 1.6.0      \n",
      "googledrivedownloader    0.4        \n",
      "graph-nets               1.0.5      \n",
      "graphviz                 0.10.1     \n",
      "greenlet                 0.4.15     \n",
      "grpcio                   1.15.0     \n",
      "gspread                  3.0.1      \n",
      "gspread-dataframe        3.0.3      \n",
      "gunicorn                 20.0.4     \n",
      "gym                      0.15.4     \n",
      "h5py                     2.8.0      \n",
      "HeapDict                 1.0.1      \n",
      "holidays                 0.9.12     \n",
      "html5lib                 1.0.1      \n",
      "httpimport               0.5.18     \n",
      "httplib2                 0.11.3     \n",
      "humanize                 0.5.1      \n",
      "hyperopt                 0.1.2      \n",
      "ideep4py                 2.0.0.post3\n",
      "idna                     2.8        \n",
      "image                    1.5.27     \n",
      "imageio                  2.4.1      \n",
      "imagesize                1.2.0      \n",
      "imbalanced-learn         0.4.3      \n",
      "imblearn                 0.0        \n",
      "imgaug                   0.2.9      \n",
      "importlib-metadata       1.3.0      \n",
      "imutils                  0.5.3      \n",
      "inflect                  2.1.0      \n",
      "intel-openmp             2020.0.133 \n",
      "intervaltree             2.1.0      \n",
      "ipykernel                4.6.1      \n",
      "ipython                  5.5.0      \n",
      "ipython-genutils         0.2.0      \n",
      "ipython-sql              0.3.9      \n",
      "ipywidgets               7.5.1      \n",
      "itsdangerous             1.1.0      \n",
      "jax                      0.1.52     \n",
      "jaxlib                   0.1.36     \n",
      "jdcal                    1.4.1      \n",
      "jedi                     0.15.2     \n",
      "jieba                    0.40       \n",
      "Jinja2                   2.10.3     \n",
      "jmespath                 0.9.4      \n",
      "joblib                   0.14.1     \n",
      "jpeg4py                  0.1.4      \n",
      "jsonschema               2.6.0      \n",
      "jupyter                  1.0.0      \n",
      "jupyter-client           5.3.4      \n",
      "jupyter-console          5.2.0      \n",
      "jupyter-core             4.6.1      \n",
      "kaggle                   1.5.6      \n",
      "kapre                    0.1.3.1    \n",
      "Keras                    2.2.5      \n",
      "Keras-Applications       1.0.8      \n",
      "Keras-Preprocessing      1.1.0      \n",
      "keras-vis                0.4.1      \n",
      "kfac                     0.2.0      \n",
      "kiwisolver               1.1.0      \n",
      "knnimpute                0.1.0      \n",
      "librosa                  0.6.3      \n",
      "lightgbm                 2.2.3      \n",
      "llvmlite                 0.31.0     \n",
      "lmdb                     0.98       \n",
      "lucid                    0.3.8      \n",
      "lunardate                0.2.0      \n",
      "lxml                     4.2.6      \n",
      "magenta                  0.3.19     \n",
      "Markdown                 3.1.1      \n",
      "MarkupSafe               1.1.1      \n",
      "matplotlib               3.1.2      \n",
      "matplotlib-venn          0.11.5     \n",
      "mesh-tensorflow          0.1.8      \n",
      "mido                     1.2.6      \n",
      "mir-eval                 0.5        \n",
      "missingno                0.4.2      \n",
      "mistune                  0.8.4      \n",
      "mizani                   0.6.0      \n",
      "mkl                      2019.0     \n",
      "mlxtend                  0.14.0     \n",
      "more-itertools           8.0.2      \n",
      "moviepy                  0.2.3.5    \n",
      "mpi4py                   3.0.3      \n",
      "mpmath                   1.1.0      \n",
      "msgpack                  0.5.6      \n",
      "multiprocess             0.70.9     \n",
      "multitasking             0.0.9      \n",
      "murmurhash               1.0.2      \n",
      "music21                  5.5.0      \n",
      "natsort                  5.5.0      \n",
      "nbconvert                5.6.1      \n",
      "nbformat                 5.0.3      \n",
      "networkx                 2.4        \n",
      "nibabel                  2.3.3      \n",
      "nltk                     3.2.5      \n",
      "notebook                 5.2.2      \n",
      "np-utils                 0.5.12.1   \n",
      "numba                    0.47.0     \n",
      "numexpr                  2.7.1      \n",
      "numpy                    1.17.5     \n",
      "nvidia-ml-py3            7.352.0    \n",
      "oauth2client             4.1.3      \n",
      "oauthlib                 3.1.0      \n",
      "okgrade                  0.4.3      \n",
      "opencv-contrib-python    4.1.2.30   \n",
      "opencv-python            4.1.2.30   \n",
      "openpyxl                 2.5.9      \n",
      "opt-einsum               3.1.0      \n",
      "osqp                     0.6.1      \n",
      "packaging                20.0       \n",
      "palettable               3.3.0      \n",
      "pandas                   0.25.3     \n",
      "pandas-datareader        0.7.4      \n",
      "pandas-gbq               0.11.0     \n",
      "pandas-profiling         1.4.1      \n",
      "pandocfilters            1.4.2      \n",
      "parso                    0.5.2      \n",
      "pathlib                  1.0.1      \n",
      "patsy                    0.5.1      \n",
      "pexpect                  4.7.0      \n",
      "pickleshare              0.7.5      \n",
      "Pillow                   6.2.2      \n",
      "pip                      19.3.1     \n",
      "pip-tools                4.2.0      \n",
      "plac                     0.9.6      \n",
      "plotly                   4.4.1      \n",
      "plotnine                 0.6.0      \n",
      "pluggy                   0.7.1      \n",
      "portpicker               1.2.0      \n",
      "prefetch-generator       1.0.1      \n",
      "preshed                  2.0.1      \n",
      "pretty-midi              0.2.8      \n",
      "prettytable              0.7.2      \n",
      "progressbar2             3.38.0     \n",
      "prometheus-client        0.7.1      \n",
      "promise                  2.3        \n",
      "prompt-toolkit           1.0.18     \n",
      "protobuf                 3.10.0     \n",
      "psutil                   5.4.8      \n",
      "psycopg2                 2.7.6.1    \n",
      "ptyprocess               0.6.0      \n",
      "py                       1.8.1      \n",
      "pyarrow                  0.14.1     \n",
      "pyasn1                   0.4.8      \n",
      "pyasn1-modules           0.2.7      \n",
      "pycocotools              2.0.0      \n",
      "pycparser                2.19       \n",
      "pydata-google-auth       0.2.1      \n",
      "pydot                    1.3.0      \n",
      "pydot-ng                 2.0.0      \n",
      "pydotplus                2.0.2      \n",
      "PyDrive                  1.3.1      \n",
      "pyemd                    0.5.1      \n",
      "pyglet                   1.3.2      \n",
      "Pygments                 2.1.3      \n",
      "pygobject                3.26.1     \n",
      "pymc3                    3.7        \n",
      "PyMeeus                  0.3.6      \n",
      "pymongo                  3.10.0     \n",
      "pymystem3                0.2.0      \n",
      "PyOpenGL                 3.1.5      \n",
      "pyparsing                2.4.6      \n",
      "pypng                    0.0.20     \n",
      "pyrsistent               0.15.7     \n",
      "pysndfile                1.3.8      \n",
      "PySocks                  1.7.1      \n",
      "pystan                   2.19.1.1   \n",
      "pytest                   3.6.4      \n",
      "python-apt               1.6.4      \n",
      "python-chess             0.23.11    \n",
      "python-dateutil          2.6.1      \n",
      "python-louvain           0.13       \n",
      "python-rtmidi            1.3.1      \n",
      "python-slugify           4.0.0      \n",
      "python-utils             2.3.0      \n",
      "pytz                     2018.9     \n",
      "PyWavelets               1.1.1      \n",
      "PyYAML                   3.13       \n",
      "pyzmq                    17.0.0     \n",
      "qtconsole                4.6.0      \n",
      "regex                    2019.12.20 \n",
      "requests                 2.21.0     \n",
      "requests-oauthlib        1.3.0      \n",
      "resampy                  0.2.2      \n",
      "retrying                 1.3.3      \n",
      "rpy2                     2.9.5      \n",
      "rsa                      4.0        \n",
      "s3fs                     0.4.0      \n",
      "s3transfer               0.2.1      \n",
      "scikit-image             0.16.2     \n",
      "scikit-learn             0.22.1     \n",
      "scipy                    1.4.1      \n",
      "screen-resolution-extra  0.0.0      \n",
      "scs                      2.1.1.post2\n",
      "seaborn                  0.9.0      \n",
      "semantic-version         2.8.4      \n",
      "Send2Trash               1.5.0      \n",
      "setuptools               42.0.2     \n",
      "setuptools-git           1.2        \n",
      "Shapely                  1.6.4.post2\n",
      "simplegeneric            0.8.1      \n",
      "six                      1.12.0     \n",
      "sklearn                  0.0        \n",
      "sklearn-pandas           1.8.0      \n",
      "smart-open               1.9.0      \n",
      "snowballstemmer          2.0.0      \n",
      "sortedcontainers         2.1.0      \n",
      "spacy                    2.1.9      \n",
      "Sphinx                   1.8.5      \n",
      "sphinxcontrib-websupport 1.1.2      \n",
      "SQLAlchemy               1.3.12     \n",
      "sqlparse                 0.3.0      \n",
      "srsly                    1.0.1      \n",
      "stable-baselines         2.2.1      \n",
      "statsmodels              0.10.2     \n",
      "sympy                    1.1.1      \n",
      "tables                   3.4.4      \n",
      "tabulate                 0.8.6      \n",
      "tblib                    1.6.0      \n",
      "tensor2tensor            1.14.1     \n",
      "tensorboard              2.0.2      \n",
      "tensorboardcolab         0.0.22     \n",
      "tensorflow               2.0.0      \n",
      "tensorflow-datasets      1.3.2      \n",
      "tensorflow-estimator     2.0.1      \n",
      "tensorflow-gan           2.0.0      \n",
      "tensorflow-hub           0.7.0      \n",
      "tensorflow-metadata      0.15.2     \n",
      "tensorflow-privacy       0.2.2      \n",
      "tensorflow-probability   0.7.0      \n",
      "termcolor                1.1.0      \n",
      "terminado                0.8.3      \n",
      "testpath                 0.4.4      \n",
      "text-unidecode           1.3        \n",
      "textblob                 0.15.3     \n",
      "textgenrnn               1.4.1      \n",
      "tflearn                  0.3.2      \n",
      "Theano                   1.0.4      \n",
      "thinc                    7.0.8      \n",
      "toolz                    0.10.0     \n",
      "torch                    1.3.1      \n",
      "torchsummary             1.5.1      \n",
      "torchtext                0.3.1      \n",
      "torchvision              0.4.2      \n",
      "tornado                  4.5.3      \n",
      "tqdm                     4.28.1     \n",
      "traitlets                4.3.3      \n",
      "tweepy                   3.6.0      \n",
      "typing                   3.6.6      \n",
      "typing-extensions        3.6.6      \n",
      "tzlocal                  1.5.1      \n",
      "umap-learn               0.3.10     \n",
      "uritemplate              3.0.1      \n",
      "urllib3                  1.24.3     \n",
      "vega-datasets            0.8.0      \n",
      "wasabi                   0.6.0      \n",
      "wcwidth                  0.1.8      \n",
      "webencodings             0.5.1      \n",
      "Werkzeug                 0.16.0     \n",
      "wheel                    0.33.6     \n",
      "widgetsnbextension       3.5.1      \n",
      "wordcloud                1.5.0      \n",
      "wrapt                    1.11.2     \n",
      "xarray                   0.14.1     \n",
      "xgboost                  0.90       \n",
      "xkit                     0.0.0      \n",
      "xlrd                     1.1.0      \n",
      "xlwt                     1.3.0      \n",
      "yellowbrick              0.9.1      \n",
      "zict                     1.0.0      \n",
      "zipp                     0.6.0      \n",
      "zmq                      0.0.0      \n"
     ]
    }
   ],
   "source": [
    "!pip list"
   ]
  },
  {
   "cell_type": "code",
   "execution_count": 0,
   "metadata": {
    "colab": {},
    "colab_type": "code",
    "id": "eplnblv_Xr1S"
   },
   "outputs": [],
   "source": [
    "#!pip install -U tensorflow==2.0"
   ]
  },
  {
   "cell_type": "code",
   "execution_count": 1,
   "metadata": {
    "colab": {},
    "colab_type": "code",
    "id": "Dg17uwtYXcie"
   },
   "outputs": [],
   "source": [
    "import tensorflow as tf    # importing tensorflow libraries"
   ]
  },
  {
   "cell_type": "code",
   "execution_count": 2,
   "metadata": {
    "colab": {
     "base_uri": "https://localhost:8080/",
     "height": 34
    },
    "colab_type": "code",
    "executionInfo": {
     "elapsed": 1280,
     "status": "ok",
     "timestamp": 1578641925480,
     "user": {
      "displayName": "Mukesh Rao",
      "photoUrl": "",
      "userId": "17153267786626763657"
     },
     "user_tz": -330
    },
    "id": "ZsAY5JZ_Y-60",
    "outputId": "38462afb-0ee3-4354-f123-9d504a95a311"
   },
   "outputs": [
    {
     "data": {
      "text/plain": [
       "'2.0.0'"
      ]
     },
     "execution_count": 2,
     "metadata": {},
     "output_type": "execute_result"
    }
   ],
   "source": [
    "tf.__version__"
   ]
  },
  {
   "cell_type": "markdown",
   "metadata": {
    "colab_type": "text",
    "id": "tsq615dsXcjG"
   },
   "source": [
    "# Creating tensors through constants"
   ]
  },
  {
   "cell_type": "code",
   "execution_count": 3,
   "metadata": {
    "colab": {
     "base_uri": "https://localhost:8080/",
     "height": 50
    },
    "colab_type": "code",
    "executionInfo": {
     "elapsed": 1317,
     "status": "ok",
     "timestamp": 1578642036683,
     "user": {
      "displayName": "Mukesh Rao",
      "photoUrl": "",
      "userId": "17153267786626763657"
     },
     "user_tz": -330
    },
    "id": "q-0f-xmLXcjL",
    "outputId": "112a2e0e-33b0-4710-f3a7-e4edaa3e1acb"
   },
   "outputs": [
    {
     "name": "stdout",
     "output_type": "stream",
     "text": [
      "b'Hello TensorFlow !!'\n"
     ]
    }
   ],
   "source": [
    "hello = tf.constant(\"Hello TensorFlow !!\")  \n",
    "print(hello.numpy())                \n"
   ]
  },
  {
   "cell_type": "markdown",
   "metadata": {
    "colab_type": "text",
    "id": "inWfvdxHXcjm"
   },
   "source": [
    " # Creating tensors through operations"
   ]
  },
  {
   "cell_type": "code",
   "execution_count": 4,
   "metadata": {
    "colab": {
     "base_uri": "https://localhost:8080/",
     "height": 34
    },
    "colab_type": "code",
    "executionInfo": {
     "elapsed": 2481,
     "status": "ok",
     "timestamp": 1578643411341,
     "user": {
      "displayName": "Mukesh Rao",
      "photoUrl": "",
      "userId": "17153267786626763657"
     },
     "user_tz": -330
    },
    "id": "zkUIy-R8Xcja",
    "outputId": "220bd6c7-5e2a-4aa9-dd80-58b098c08603"
   },
   "outputs": [
    {
     "name": "stdout",
     "output_type": "stream",
     "text": [
      "Sum of node1 and node2 is: 8\n"
     ]
    }
   ],
   "source": [
    "# creating nodes in computation graph \n",
    "node1 = tf.constant(3, dtype=tf.int32)   # creates a data node \n",
    "node2 = tf.constant(5, dtype=tf.int32)   # creates a data node\n",
    "node3 = tf.add(node1, node2)             # creates a function node\n",
    "\n",
    "\n",
    "# evaluating node3 and printing the result \n",
    "print(\"Sum of node1 and node2 is:\",node3.numpy()) \n"
   ]
  },
  {
   "cell_type": "code",
   "execution_count": 5,
   "metadata": {
    "colab": {
     "base_uri": "https://localhost:8080/",
     "height": 84
    },
    "colab_type": "code",
    "executionInfo": {
     "elapsed": 2032,
     "status": "ok",
     "timestamp": 1578644235057,
     "user": {
      "displayName": "Mukesh Rao",
      "photoUrl": "",
      "userId": "17153267786626763657"
     },
     "user_tz": -330
    },
    "id": "GEoM8tVdfBnE",
    "outputId": "e3dd34cd-2f68-40d7-ac2e-0c2016bafa04"
   },
   "outputs": [
    {
     "name": "stdout",
     "output_type": "stream",
     "text": [
      "[[0 1 2 3]\n",
      " [5 6 7 8]]\n",
      "(2, 4)\n",
      "tf.Tensor(2, shape=(), dtype=int32)\n"
     ]
    }
   ],
   "source": [
    "A  = tf.Variable(initial_value = ([[0,1,2,3],[5,6,7,8]]), shape=(2,4) , dtype = 'int32', name = 'A' )\n",
    "print(A.numpy())\n",
    "print(A.shape)\n",
    "print(tf.rank(A))"
   ]
  },
  {
   "cell_type": "code",
   "execution_count": 6,
   "metadata": {
    "colab": {
     "base_uri": "https://localhost:8080/",
     "height": 50
    },
    "colab_type": "code",
    "executionInfo": {
     "elapsed": 1315,
     "status": "ok",
     "timestamp": 1578644387350,
     "user": {
      "displayName": "Mukesh Rao",
      "photoUrl": "",
      "userId": "17153267786626763657"
     },
     "user_tz": -330
    },
    "id": "iZnkwnUsiGsX",
    "outputId": "6300cc3a-084d-42fc-883d-04c448353c33"
   },
   "outputs": [
    {
     "name": "stdout",
     "output_type": "stream",
     "text": [
      "(4, 1)\n",
      "tf.Tensor(2, shape=(), dtype=int32)\n"
     ]
    }
   ],
   "source": [
    "b = tf.Variable([[1],[2],[3],[4]])\n",
    "print(b.shape)\n",
    "print(tf.rank(b))"
   ]
  },
  {
   "cell_type": "code",
   "execution_count": 7,
   "metadata": {
    "colab": {
     "base_uri": "https://localhost:8080/",
     "height": 101
    },
    "colab_type": "code",
    "executionInfo": {
     "elapsed": 1373,
     "status": "ok",
     "timestamp": 1578644564298,
     "user": {
      "displayName": "Mukesh Rao",
      "photoUrl": "",
      "userId": "17153267786626763657"
     },
     "user_tz": -330
    },
    "id": "gUHSxdPtinH_",
    "outputId": "3df2cafd-b14e-45ce-d123-137c1a669637"
   },
   "outputs": [
    {
     "name": "stdout",
     "output_type": "stream",
     "text": [
      "(2, 2)\n",
      "tf.Tensor(2, shape=(), dtype=int32)\n",
      "<tf.Variable 'Variable:0' shape=(2, 2) dtype=int32, numpy=\n",
      "array([[1, 2],\n",
      "       [3, 4]])>\n"
     ]
    }
   ],
   "source": [
    "C = tf.Variable([[1,2],[3,4]])\n",
    "print(C.shape)\n",
    "print(tf.rank(C))\n",
    "print(C)"
   ]
  },
  {
   "cell_type": "code",
   "execution_count": 8,
   "metadata": {
    "colab": {
     "base_uri": "https://localhost:8080/",
     "height": 168
    },
    "colab_type": "code",
    "executionInfo": {
     "elapsed": 1294,
     "status": "ok",
     "timestamp": 1578644912773,
     "user": {
      "displayName": "Mukesh Rao",
      "photoUrl": "",
      "userId": "17153267786626763657"
     },
     "user_tz": -330
    },
    "id": "tIvE6O-wjlOe",
    "outputId": "748d295e-327a-426b-9b53-4d172b84e09c"
   },
   "outputs": [
    {
     "name": "stdout",
     "output_type": "stream",
     "text": [
      "rank of D : tf.Tensor(2, shape=(), dtype=int32)\n",
      "shape of D : (6, 2)\n",
      "content of D : tf.Tensor(\n",
      "[[50 50]\n",
      " [50 50]\n",
      " [50 50]\n",
      " [50 50]\n",
      " [50 50]\n",
      " [50 50]], shape=(6, 2), dtype=int32)\n"
     ]
    }
   ],
   "source": [
    "D = tf.constant(50, shape=[6,2])\n",
    "print(\"rank of D :\", tf.rank(D))\n",
    "print(\"shape of D :\" , D.shape)\n",
    "print(\"content of D :\",  D)"
   ]
  },
  {
   "cell_type": "code",
   "execution_count": 0,
   "metadata": {
    "colab": {},
    "colab_type": "code",
    "id": "be8QEpUMgzRQ"
   },
   "outputs": [],
   "source": []
  },
  {
   "cell_type": "markdown",
   "metadata": {
    "colab_type": "text",
    "id": "bh094NVtXckw"
   },
   "source": [
    "# Creating tensors from Existing Objects"
   ]
  },
  {
   "cell_type": "code",
   "execution_count": 9,
   "metadata": {
    "colab": {},
    "colab_type": "code",
    "id": "4fXNN8l5Xckz"
   },
   "outputs": [],
   "source": [
    "tf_t = tf.convert_to_tensor(5.0, dtype=tf.float64)   #converting a scalar value (5.0) into a tensor of rank 0 "
   ]
  },
  {
   "cell_type": "code",
   "execution_count": 10,
   "metadata": {
    "colab": {
     "base_uri": "https://localhost:8080/",
     "height": 84
    },
    "colab_type": "code",
    "executionInfo": {
     "elapsed": 1118,
     "status": "ok",
     "timestamp": 1578659886744,
     "user": {
      "displayName": "Mukesh Rao",
      "photoUrl": "",
      "userId": "17153267786626763657"
     },
     "user_tz": -330
    },
    "id": "fG4wXJl0Xck9",
    "outputId": "6cc3e42c-78cb-42e0-f78b-4375cb62c64e"
   },
   "outputs": [
    {
     "name": "stdout",
     "output_type": "stream",
     "text": [
      "tf.Tensor(0, shape=(), dtype=int32)\n",
      "tf.Tensor([], shape=(0,), dtype=int32)\n",
      "tf.Tensor(0, shape=(), dtype=int32)\n",
      "tf.Tensor([], shape=(0,), dtype=int32)\n"
     ]
    }
   ],
   "source": [
    "print(tf.rank(tf_t))\n",
    "print(tf.shape(tf_t))   # pl. note, the number after Rank_ and Shape_ are internal indices. \n",
    "\n",
    "print(tf.rank(tf_t))    #Note: if we do not use tfs.run(), the tf.rank will only describe the node\n",
    "print(tf.shape(tf_t) )  # pl. note, the number after Rank_ and Shape_ are internal indices. "
   ]
  },
  {
   "cell_type": "markdown",
   "metadata": {
    "colab_type": "text",
    "id": "A-0ZTLDHXclH"
   },
   "source": [
    "# Creating tensors from an array"
   ]
  },
  {
   "cell_type": "markdown",
   "metadata": {
    "colab_type": "text",
    "id": "67aE4E0jyRWL"
   },
   "source": []
  },
  {
   "cell_type": "code",
   "execution_count": 11,
   "metadata": {
    "colab": {
     "base_uri": "https://localhost:8080/",
     "height": 420
    },
    "colab_type": "code",
    "executionInfo": {
     "elapsed": 1139,
     "status": "ok",
     "timestamp": 1578660147308,
     "user": {
      "displayName": "Mukesh Rao",
      "photoUrl": "",
      "userId": "17153267786626763657"
     },
     "user_tz": -330
    },
    "id": "zV7mgvMlXclK",
    "outputId": "23b2af8d-49fe-4173-d22e-870257146141"
   },
   "outputs": [
    {
     "name": "stdout",
     "output_type": "stream",
     "text": [
      "one_dim_array Shape :  ([1], [2], [3], [4], [5])\n",
      "\n",
      "\n",
      "tf.Tensor(\n",
      "[[1.]\n",
      " [2.]\n",
      " [3.]\n",
      " [4.]\n",
      " [5.]], shape=(5, 1), dtype=float64)\n",
      "rank of tf_t :  tf.Tensor(2, shape=(), dtype=int32)\n",
      "shape of tf_t:  tf.Tensor([5 1], shape=(2,), dtype=int32)\n",
      "\n",
      "\n",
      "tf_t[0] :  tf.Tensor([1.], shape=(1,), dtype=float64)\n",
      "tf_t[0] :  tf.Tensor([3.], shape=(1,), dtype=float64)\n",
      "\n",
      "\n",
      "run(tf_t) : \n",
      " tf.Tensor(\n",
      "[[1.]\n",
      " [2.]\n",
      " [3.]\n",
      " [4.]\n",
      " [5.]], shape=(5, 1), dtype=float64)\n"
     ]
    }
   ],
   "source": [
    "import numpy as np\n",
    "\n",
    "one_dim_array = ([1], [2], [3], [4], [5])\n",
    "print(\"one_dim_array Shape : \", one_dim_array)\n",
    "\n",
    "tf_t = tf.convert_to_tensor(one_dim_array, dtype=tf.float64)\n",
    "print('\\n')\n",
    "print(tf_t)\n",
    "print('rank of tf_t : ', tf.rank(tf_t))     #Note: if we do not use tfs.run(), the tf.rank will only describe the node\n",
    "print('shape of tf_t: ', tf.shape(tf_t))\n",
    "print('\\n')\n",
    "print('tf_t[0] : ', tf_t[0])\n",
    "print('tf_t[0] : ', tf_t[2])\n",
    "print('\\n')\n",
    "print('run(tf_t) : \\n', tf_t)"
   ]
  },
  {
   "cell_type": "markdown",
   "metadata": {
    "colab_type": "text",
    "id": "UNXNzvvWXclS"
   },
   "source": [
    "# Define tensorflow variables "
   ]
  },
  {
   "cell_type": "code",
   "execution_count": 13,
   "metadata": {
    "colab": {
     "base_uri": "https://localhost:8080/",
     "height": 84
    },
    "colab_type": "code",
    "executionInfo": {
     "elapsed": 1123,
     "status": "ok",
     "timestamp": 1578660249182,
     "user": {
      "displayName": "Mukesh Rao",
      "photoUrl": "",
      "userId": "17153267786626763657"
     },
     "user_tz": -330
    },
    "id": "h_cO39i0XclU",
    "outputId": "3ae393c9-6fcc-4a12-c6f4-e06d8a94a4f1"
   },
   "outputs": [
    {
     "name": "stdout",
     "output_type": "stream",
     "text": [
      "w: <tf.Variable 'Variable:0' shape=(1,) dtype=float32, numpy=array([0.3], dtype=float32)>\n",
      "x: <tf.Variable 'Variable:0' shape=(1,) dtype=float32, numpy=array([5.], dtype=float32)>\n",
      "b: <tf.Variable 'Variable:0' shape=(1,) dtype=float32, numpy=array([-0.3], dtype=float32)>\n",
      "y: tf.Tensor([1.2], shape=(1,), dtype=float32)\n"
     ]
    }
   ],
   "source": [
    "# Assume Linear Model y = w * x + b\n",
    "# Define model parameters\n",
    "w = tf.Variable([.3], tf.float32)\n",
    "b = tf.Variable([-.3], tf.float32)\n",
    "\n",
    "\n",
    "# Define model input and output\n",
    "x = tf.Variable([5.0],tf.float32)\n",
    "y = w * x + b\n",
    "\n",
    "print(\"w:\", w)\n",
    "print(\"x:\", x)\n",
    "print(\"b:\", b)\n",
    "print(\"y:\", y)\n",
    "\n"
   ]
  },
  {
   "cell_type": "markdown",
   "metadata": {
    "colab_type": "text",
    "id": "-cNDamWVXcl8"
   },
   "source": [
    "# Linear model in tensorflow"
   ]
  },
  {
   "cell_type": "code",
   "execution_count": 16,
   "metadata": {
    "colab": {
     "base_uri": "https://localhost:8080/",
     "height": 118
    },
    "colab_type": "code",
    "executionInfo": {
     "elapsed": 1271,
     "status": "ok",
     "timestamp": 1578664632041,
     "user": {
      "displayName": "Mukesh Rao",
      "photoUrl": "",
      "userId": "17153267786626763657"
     },
     "user_tz": -330
    },
    "id": "Y_coH6FOXcmA",
    "outputId": "f2f7b0b9-1a30-4f8a-b671-7cb187331932"
   },
   "outputs": [
    {
     "name": "stdout",
     "output_type": "stream",
     "text": [
      "Loss at step 000: 6.100\n",
      "Loss at step 020: 0.217\n",
      "Loss at step 040: 0.211\n",
      "Loss at step 060: 0.206\n",
      "Loss at step 080: 0.201\n",
      "W : 0.3344224691390991 , b  = 0.2118747979402542 \n"
     ]
    }
   ],
   "source": [
    "train_X = [3.3, 4.4, 5.5, 6.71, 6.93, 4.168, 9.779, 6.182, 7.59, 2.167,\n",
    "           7.042, 10.791, 5.313, 7.997, 5.654, 9.27, 3.1]\n",
    "train_Y = [1.7, 2.76, 2.09, 3.19, 1.694, 1.573, 3.366, 2.596, 2.53, 1.221,\n",
    "           2.827, 3.465, 1.65, 2.904, 2.42, 2.94, 1.3]\n",
    "NUM_EXAMPLES = len(train_X)\n",
    "\n",
    "\n",
    "#create model paramters with initial values \n",
    "W = tf.Variable(0.)\n",
    "b = tf.Variable(0.)\n",
    "\n",
    "#training info\n",
    "train_steps = 100\n",
    "learning_rate = 0.01\n",
    "\n",
    "for i in range(train_steps):\n",
    "  \n",
    "  #watch the gradient flow \n",
    "    with tf.GradientTape() as tape:\n",
    "    \n",
    "    #forward pass \n",
    "    yhat = train_X * W + b\n",
    "    \n",
    "    #calcuate the loss (difference squared error)\n",
    "    error = yhat - train_Y\n",
    "    loss = tf.reduce_mean(tf.square(error))\n",
    "  \n",
    "  #evalute the gradient with the respect to the paramters\n",
    "    dW, db = tape.gradient(loss, [W, b])\n",
    "\n",
    "  #update the paramters using Gradient Descent  \n",
    "    W.assign_sub(dW * learning_rate)\n",
    "    b.assign_sub(db* learning_rate)\n",
    "\n",
    "  #print the loss every 20 iterations \n",
    "  if i % 20 == 0:\n",
    "    print(\"Loss at step {:03d}: {:.3f}\".format(i, loss))\n",
    "      \n",
    "print(f'W : {W.numpy()} , b  = {b.numpy()} ')"
   ]
  },
  {
   "cell_type": "code",
   "execution_count": 21,
   "metadata": {
    "colab": {
     "base_uri": "https://localhost:8080/",
     "height": 265
    },
    "colab_type": "code",
    "executionInfo": {
     "elapsed": 1225,
     "status": "ok",
     "timestamp": 1578664637140,
     "user": {
      "displayName": "Mukesh Rao",
      "photoUrl": "",
      "userId": "17153267786626763657"
     },
     "user_tz": -330
    },
    "id": "w5mQk92jugav",
    "outputId": "c1995d28-4702-4173-bf86-314226ce8839"
   },
   "outputs": [
    {
     "data": {
      "image/png": "[encoded data removed]",
      "text/plain": [
       "<Figure size 432x288 with 1 Axes>"
      ]
     },
     "metadata": {
      "needs_background": "light"
     },
     "output_type": "display_data"
    }
   ],
   "source": [
    "%matplotlib inline\n",
    "import matplotlib.pyplot as plt\n",
    "# Graphic display\n",
    "plt.plot(train_X, train_Y, 'ro', label='Original data')\n",
    "plt.plot(train_X, np.array(W * train_X + b), label='Fitted line')\n",
    "plt.legend()\n",
    "plt.show()"
   ]
  },
  {
   "cell_type": "code",
   "execution_count": 19,
   "metadata": {
    "colab": {},
    "colab_type": "code",
    "id": "srBxvRxSrp09"
   },
   "outputs": [],
   "source": [
    "def linear_model(X_val):\n",
    "  print((W*X_val + b).numpy())"
   ]
  },
  {
   "cell_type": "code",
   "execution_count": 20,
   "metadata": {
    "colab": {
     "base_uri": "https://localhost:8080/",
     "height": 34
    },
    "colab_type": "code",
    "executionInfo": {
     "elapsed": 1119,
     "status": "ok",
     "timestamp": 1578664696240,
     "user": {
      "displayName": "Mukesh Rao",
      "photoUrl": "",
      "userId": "17153267786626763657"
     },
     "user_tz": -330
    },
    "id": "UIEUTljxXcmP",
    "outputId": "f8a48827-ca73-41a5-d952-96bfe4130919"
   },
   "outputs": [
    {
     "name": "stdout",
     "output_type": "stream",
     "text": [
      "2.8872545\n"
     ]
    }
   ],
   "source": [
    "linear_model(8)"
   ]
  },
  {
   "cell_type": "code",
   "execution_count": null,
   "metadata": {},
   "outputs": [],
   "source": []
  }
 ],
 "metadata": {
  "colab": {
   "name": "Tensorflow_Introduction.ipynb",
   "provenance": []
  },
  "kernelspec": {
   "display_name": "Python 3",
   "language": "python",
   "name": "python3"
  },
  "language_info": {
   "codemirror_mode": {
    "name": "ipython",
    "version": 3
   },
   "file_extension": ".py",
   "mimetype": "text/x-python",
   "name": "python",
   "nbconvert_exporter": "python",
   "pygments_lexer": "ipython3",
   "version": "3.7.4"
  }
 },
 "nbformat": 4,
 "nbformat_minor": 1
}
