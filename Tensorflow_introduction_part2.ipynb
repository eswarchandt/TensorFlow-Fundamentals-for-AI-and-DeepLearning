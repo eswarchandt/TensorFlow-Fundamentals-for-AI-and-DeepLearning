{
 "cells": [
  {
   "cell_type": "code",
   "execution_count": 1,
   "metadata": {},
   "outputs": [],
   "source": [
    "import tensorflow as tf "
   ]
  },
  {
   "cell_type": "code",
   "execution_count": 2,
   "metadata": {},
   "outputs": [
    {
     "name": "stdout",
     "output_type": "stream",
     "text": [
      "2.0.0\n"
     ]
    }
   ],
   "source": [
    "print(tf.__version__)"
   ]
  },
  {
   "cell_type": "code",
   "execution_count": 3,
   "metadata": {},
   "outputs": [
    {
     "data": {
      "text/plain": [
       "True"
      ]
     },
     "execution_count": 3,
     "metadata": {},
     "output_type": "execute_result"
    }
   ],
   "source": [
    "tf.executing_eagerly()"
   ]
  },
  {
   "cell_type": "code",
   "execution_count": 4,
   "metadata": {},
   "outputs": [
    {
     "name": "stdout",
     "output_type": "stream",
     "text": [
      "tf.Tensor([1 2 4], shape=(3,), dtype=int32)\n"
     ]
    }
   ],
   "source": [
    "a = tf.constant([ 1, 2, 3]) \n",
    "b = tf.constant([ 0, 0, 1]) \n",
    "c = tf.add( a, b) \n",
    "print( c)\n",
    "\n"
   ]
  },
  {
   "cell_type": "code",
   "execution_count": 5,
   "metadata": {},
   "outputs": [],
   "source": [
    "#creating graphs in TensorFlow 2.0"
   ]
  },
  {
   "cell_type": "code",
   "execution_count": 15,
   "metadata": {},
   "outputs": [],
   "source": [
    "def compute(a, b, c):\n",
    "    d = a*b + c\n",
    "    e = a*b + c\n",
    "    return d, e"
   ]
  },
  {
   "cell_type": "markdown",
   "metadata": {},
   "source": [
    "In lazy execution mode TF would create an execution graph of the operations\n",
    "Before converting the graph to an executable and executing it, a graph optimizer function will fire\n",
    "The optimizer will scan the graph and optimize execution. For e.g it will note a*b occuring twice hence store the result in \n",
    "memory and use it again when required\n",
    "\n",
    "\n",
    "In Eager mode (default mode of TF 2.0, such optimization is not possible\n",
    "Every operation is run when it is defined\n",
    "TF provides a facility called TensorFlow AutoGraph\n",
    "\n",
    "The Autograph turns eager code into a graph, allowing the benefits of optimization before execution \n",
    "\n"
   ]
  },
  {
   "cell_type": "code",
   "execution_count": 16,
   "metadata": {},
   "outputs": [
    {
     "data": {
      "text/plain": [
       "(10, 10)"
      ]
     },
     "execution_count": 16,
     "metadata": {},
     "output_type": "execute_result"
    }
   ],
   "source": [
    "compute(2,3,4)"
   ]
  },
  {
   "cell_type": "code",
   "execution_count": 17,
   "metadata": {},
   "outputs": [],
   "source": [
    "@tf.function\n",
    "def comp(a, b, c):\n",
    "    d = a*b + c\n",
    "    e = a*b + c\n",
    "    return d, e"
   ]
  },
  {
   "cell_type": "markdown",
   "metadata": {},
   "source": [
    "The AutoGraph can map most Python statements such as for loops, while loops, if statements, or iterations into graphs. \n",
    "Using graph executions can sometimes become faster than the eager mode due to graph optimization facilty \n",
    "AutoGraph should be used in the following scenarios: \n",
    "    When the model needs to be exported for other devices \n",
    "    When performance is paramount and graph optimizations can lead to speed\n",
    "\n"
   ]
  },
  {
   "cell_type": "code",
   "execution_count": 18,
   "metadata": {},
   "outputs": [
    {
     "data": {
      "text/plain": [
       "(<tf.Tensor: id=38, shape=(), dtype=int32, numpy=10>,\n",
       " <tf.Tensor: id=39, shape=(), dtype=int32, numpy=10>)"
      ]
     },
     "execution_count": 18,
     "metadata": {},
     "output_type": "execute_result"
    }
   ],
   "source": [
    "comp(2,3,4)"
   ]
  },
  {
   "cell_type": "code",
   "execution_count": null,
   "metadata": {},
   "outputs": [],
   "source": []
  }
 ],
 "metadata": {
  "kernelspec": {
   "display_name": "Python 3",
   "language": "python",
   "name": "python3"
  },
  "language_info": {
   "codemirror_mode": {
    "name": "ipython",
    "version": 3
   },
   "file_extension": ".py",
   "mimetype": "text/x-python",
   "name": "python",
   "nbconvert_exporter": "python",
   "pygments_lexer": "ipython3",
   "version": "3.7.4"
  }
 },
 "nbformat": 4,
 "nbformat_minor": 2
}
