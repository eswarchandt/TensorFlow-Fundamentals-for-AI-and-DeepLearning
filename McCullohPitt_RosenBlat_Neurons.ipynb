{
 "cells": [
  {
   "cell_type": "code",
   "execution_count": 0,
   "metadata": {
    "colab": {},
    "colab_type": "code",
    "id": "sdjg2u6o_rUq"
   },
   "outputs": [],
   "source": [
    "from random import choice\n",
    "from numpy import array, dot, random\n",
    "\n",
    "import numpy as np\n"
   ]
  },
  {
   "cell_type": "code",
   "execution_count": 0,
   "metadata": {
    "colab": {},
    "colab_type": "code",
    "id": "vseGdya3_rUv"
   },
   "outputs": [],
   "source": [
    "# MCNeuron for And\n",
    "w = random.rand(2)\n",
    "w[1] = 1\n",
    "w[0] = 1\n",
    "\n",
    "training_data = [\n",
    "    (array([0,0]), 0),\n",
    "    (array([0,1]), 0),\n",
    "    (array([1,0]), 0),\n",
    "    (array([1,1]), 1),\n",
    "]\n",
    "\n",
    "step_function = lambda x: 0 if x < 2 else 1    # Step function with threshold of 2. Anything below is 0 "
   ]
  },
  {
   "cell_type": "code",
   "execution_count": 8,
   "metadata": {
    "colab": {
     "base_uri": "https://localhost:8080/",
     "height": 84
    },
    "colab_type": "code",
    "executionInfo": {
     "elapsed": 1017,
     "status": "ok",
     "timestamp": 1578739723813,
     "user": {
      "displayName": "Mukesh Rao",
      "photoUrl": "",
      "userId": "17153267786626763657"
     },
     "user_tz": -330
    },
    "id": "D2ytR-0Y_rUy",
    "outputId": "b53e5b54-931d-413f-c7cc-1e257fd71419"
   },
   "outputs": [
    {
     "name": "stdout",
     "output_type": "stream",
     "text": [
      "[0 0]: 0.0 -> 0\n",
      "[0 1]: 1.0 -> 0\n",
      "[1 0]: 1.0 -> 0\n",
      "[1 1]: 2.0 -> 1\n"
     ]
    }
   ],
   "source": [
    "for x, _ in training_data:\n",
    "    result = dot(x, w)\n",
    "\n",
    "    print(\"{}: {} -> {}\".format(x[:2], result, step_function(result)))\n"
   ]
  },
  {
   "cell_type": "code",
   "execution_count": 0,
   "metadata": {
    "colab": {},
    "colab_type": "code",
    "id": "3NpPO87p_rU1"
   },
   "outputs": [],
   "source": [
    "# MCNeruon for OR\n",
    "w = random.rand(2)\n",
    "w[1] = 1\n",
    "w[0] = 1\n",
    "\n",
    "training_data = [\n",
    "    (array([0,0]), 0),\n",
    "    (array([0,1]), 1),\n",
    "    (array([1,0]), 1),\n",
    "    (array([1,1]), 1),\n",
    "]\n",
    "\n",
    "step_function = lambda x: 0 if x < 1 else 1    # Step function with threshold of 1. Anything below is 0 \n"
   ]
  },
  {
   "cell_type": "code",
   "execution_count": 10,
   "metadata": {
    "colab": {
     "base_uri": "https://localhost:8080/",
     "height": 84
    },
    "colab_type": "code",
    "executionInfo": {
     "elapsed": 1008,
     "status": "ok",
     "timestamp": 1578739777012,
     "user": {
      "displayName": "Mukesh Rao",
      "photoUrl": "",
      "userId": "17153267786626763657"
     },
     "user_tz": -330
    },
    "id": "Zw_usGCN_rU4",
    "outputId": "ba22e2fc-6c46-41a8-cda9-c44c3f57f723"
   },
   "outputs": [
    {
     "name": "stdout",
     "output_type": "stream",
     "text": [
      "[0 0]: 0.0 -> 0\n",
      "[0 1]: 1.0 -> 1\n",
      "[1 0]: 1.0 -> 1\n",
      "[1 1]: 2.0 -> 1\n"
     ]
    }
   ],
   "source": [
    "for x, _ in training_data:\n",
    "    result = dot(x, w)\n",
    "\n",
    "    print(\"{}: {} -> {}\".format(x[:2], result, step_function(result)))\n"
   ]
  },
  {
   "cell_type": "code",
   "execution_count": 0,
   "metadata": {
    "colab": {
     "base_uri": "https://localhost:8080/",
     "height": 84
    },
    "colab_type": "code",
    "executionInfo": {
     "elapsed": 1096,
     "status": "ok",
     "timestamp": 1578719243805,
     "user": {
      "displayName": "Mukesh Rao",
      "photoUrl": "",
      "userId": "17153267786626763657"
     },
     "user_tz": -330
    },
    "id": "-xUEcVyr_rU6",
    "outputId": "70ef5cf5-74d8-4ed7-b17f-12b20592b647"
   },
   "outputs": [
    {
     "name": "stdout",
     "output_type": "stream",
     "text": [
      "[0 0]: 0.0 -> 1\n",
      "[0 1]: 1.0 -> 1\n",
      "[1 0]: 1.0 -> 1\n",
      "[1 1]: 2.0 -> 0\n"
     ]
    }
   ],
   "source": [
    "# MCNeuron for NAND\n",
    "\n",
    "step_function = lambda x: 0 if x >= 2 else 1    # Step function with threshold of > 2 is 0 \n",
    "\n",
    "w[1] = 1\n",
    "w[0] = 1\n",
    "\n",
    "training_data = [\n",
    "    (array([0,0]), 1),\n",
    "    (array([0,1]), 0),\n",
    "    (array([1,0]), 0),\n",
    "    (array([1,1]), 0),\n",
    "]\n",
    "\n",
    "for x, _ in training_data:\n",
    "    result = dot(x, w)\n",
    "\n",
    "    print(\"{}: {} -> {}\".format(x[:2], result, step_function(result)))\n"
   ]
  },
  {
   "cell_type": "code",
   "execution_count": 0,
   "metadata": {
    "colab": {},
    "colab_type": "code",
    "id": "gHlv_aVQ_rU_"
   },
   "outputs": [],
   "source": [
    "# Rosenblat's Perceptron included a way to adjust the weights and find the appropriate combinations \n",
    "# to overcome the need to modify thresholds for each gate separately, it used a bias term using which the thresholds in the \n",
    "# neuron can be modified to implement multiple Boolean functions in one code"
   ]
  },
  {
   "cell_type": "code",
   "execution_count": 12,
   "metadata": {
    "colab": {
     "base_uri": "https://localhost:8080/",
     "height": 84
    },
    "colab_type": "code",
    "executionInfo": {
     "elapsed": 1217,
     "status": "ok",
     "timestamp": 1578739893663,
     "user": {
      "displayName": "Mukesh Rao",
      "photoUrl": "",
      "userId": "17153267786626763657"
     },
     "user_tz": -330
    },
    "id": "RalIuK_x_rVC",
    "outputId": "defb4f56-e6f2-4a9a-9cb7-9e68cf40c5bc"
   },
   "outputs": [
    {
     "name": "stdout",
     "output_type": "stream",
     "text": [
      "[0 0 1]: 10.056008149655883 -> 0\n",
      "[0 1 1]: 20.568271358872238 -> 0\n",
      "[1 0 1]: 19.76825225444247 -> 0\n",
      "[1 1 1]: 30.280515463658823 -> 1\n"
     ]
    }
   ],
   "source": [
    "\n",
    "step_function = lambda x: 0 if x < 30 else 1    # Step function with threshold of 0.5. Anything below is 0 \n",
    "\n",
    "\n",
    "training_data = [\n",
    "    (array([0,0,1]), 0),\n",
    "    (array([0,1,1]), 0),\n",
    "    (array([1,0,1]), 0),\n",
    "    (array([1,1,1]), 1),\n",
    "]\n",
    "\n",
    "w = random.rand(3)\n",
    "b = .1    # initializing bias term\n",
    "errors = []\n",
    "eta = 0.1\n",
    "n = 10000\n",
    "\n",
    "for i in range(n):\n",
    "    x, expected = choice(training_data)\n",
    "    \n",
    "   # w = np.append(w, b)\n",
    "\n",
    "    result = dot(w, x)\n",
    "    error = expected - step_function(result)   # irrespective of what threshold we set, the algo will find the approp weights\n",
    "    errors.append(error)                       # that is the beauty of bias. The 'AND' pattern is learnt from data\n",
    "    w += eta * error * x\n",
    "\n",
    "for x, _ in training_data:\n",
    "    result = dot(x, w)\n",
    "    print(\"{}: {} -> {}\".format(x[:3], result, step_function(result)))\n"
   ]
  },
  {
   "cell_type": "code",
   "execution_count": 0,
   "metadata": {
    "colab": {
     "base_uri": "https://localhost:8080/",
     "height": 84
    },
    "colab_type": "code",
    "executionInfo": {
     "elapsed": 1010,
     "status": "ok",
     "timestamp": 1578720066518,
     "user": {
      "displayName": "Mukesh Rao",
      "photoUrl": "",
      "userId": "17153267786626763657"
     },
     "user_tz": -330
    },
    "id": "2Bvo6tDt_rVH",
    "outputId": "8c4560a1-baae-4bea-aa34-fa7c4eceedc1"
   },
   "outputs": [
    {
     "name": "stdout",
     "output_type": "stream",
     "text": [
      "[0 0 1]: 6.261557703740946 -> 0\n",
      "[0 1 1]: 10.363693189499358 -> 1\n",
      "[1 0 1]: 10.000889576025322 -> 1\n",
      "[1 1 1]: 14.103025061783736 -> 1\n"
     ]
    }
   ],
   "source": [
    "# OR function in RB Neuron\n",
    "\n",
    "\n",
    "step_function = lambda x: 0 if x < 10 else 1    # Step function with threshold of 0.5. Anything below is 0 \n",
    "\n",
    "\n",
    "# AND gate\n",
    "training_data = [\n",
    "    (array([0,0,1]), 0),\n",
    "    (array([0,1,1]), 1),\n",
    "    (array([1,0,1]), 1),\n",
    "    (array([1,1,1]), 1),\n",
    "]\n",
    "\n",
    "w = random.rand(3)\n",
    "b = .1    # initializing bias term\n",
    "errors = []\n",
    "eta = 0.01\n",
    "n = 10000\n",
    "\n",
    "for i in range(n):\n",
    "    x, expected = choice(training_data)\n",
    "    \n",
    "   # w = np.append(w, b)\n",
    "\n",
    "    result = dot(w, x)\n",
    "    error = expected - step_function(result)   # irrespective of what threshold we set, the algo will find the approp weights\n",
    "    errors.append(error)                       # that is the beauty of bias. The 'OR' pattern is learnt from data\n",
    "    w += eta * error * x\n",
    "\n",
    "for x, _ in training_data:\n",
    "    result = dot(x, w)\n",
    "    print(\"{}: {} -> {}\".format(x[:3], result, step_function(result)))\n"
   ]
  },
  {
   "cell_type": "code",
   "execution_count": 0,
   "metadata": {
    "colab": {},
    "colab_type": "code",
    "id": "WFdP2PFh_rVJ"
   },
   "outputs": [],
   "source": []
  }
 ],
 "metadata": {
  "colab": {
   "collapsed_sections": [],
   "name": "McCullohPitt_RosenBlat_Neurons.ipynb",
   "provenance": []
  },
  "kernelspec": {
   "display_name": "Python 3",
   "language": "python",
   "name": "python3"
  },
  "language_info": {
   "codemirror_mode": {
    "name": "ipython",
    "version": 3
   },
   "file_extension": ".py",
   "mimetype": "text/x-python",
   "name": "python",
   "nbconvert_exporter": "python",
   "pygments_lexer": "ipython3",
   "version": "3.7.4"
  }
 },
 "nbformat": 4,
 "nbformat_minor": 1
}
